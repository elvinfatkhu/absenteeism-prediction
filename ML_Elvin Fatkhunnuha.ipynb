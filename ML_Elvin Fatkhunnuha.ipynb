{
 "cells": [
  {
   "cell_type": "code",
   "execution_count": 236,
   "metadata": {},
   "outputs": [],
   "source": [
    "import pandas as pd\n",
    "import numpy as np\n",
    "import matplotlib.pyplot as plt\n",
    "import seaborn as sns\n",
    "\n",
    "from sklearn.linear_model import LogisticRegression\n",
    "from sklearn.neighbors import KNeighborsClassifier\n",
    "from sklearn.tree import DecisionTreeClassifier\n",
    "from sklearn.ensemble import RandomForestClassifier\n",
    "from sklearn.model_selection import train_test_split, GridSearchCV, StratifiedKFold\n",
    "from sklearn.metrics import classification_report, recall_score, accuracy_score, f1_score, confusion_matrix, precision_score\n",
    "from sklearn.svm import SVC\n",
    "\n",
    "from sklearn.pipeline import Pipeline\n",
    "from sklearn.impute import SimpleImputer\n",
    "from sklearn.preprocessing import RobustScaler, PowerTransformer, PolynomialFeatures, OneHotEncoder, StandardScaler\n",
    "from sklearn.compose import ColumnTransformer\n",
    "\n",
    "from xgboost import XGBClassifier, XGBRegressor\n",
    "\n",
    "pd.options.display.max_columns = 999\n",
    "import warnings\n",
    "warnings.filterwarnings('ignore')"
   ]
  },
  {
   "cell_type": "code",
   "execution_count": 237,
   "metadata": {},
   "outputs": [],
   "source": [
    "df = pd.read_csv('Absenteeism.csv', sep = ';')"
   ]
  },
  {
   "cell_type": "markdown",
   "metadata": {},
   "source": [
    "# Data preprocessing"
   ]
  },
  {
   "cell_type": "code",
   "execution_count": 238,
   "metadata": {},
   "outputs": [],
   "source": [
    "df.drop(columns = 'ID', inplace = True) #irrelevant"
   ]
  },
  {
   "cell_type": "code",
   "execution_count": 239,
   "metadata": {},
   "outputs": [],
   "source": [
    "b = []\n",
    "for i in df['Absenteeism time in hours']:\n",
    "    if i > 0 :\n",
    "        b.append(1)\n",
    "    else:\n",
    "        b.append(0)"
   ]
  },
  {
   "cell_type": "code",
   "execution_count": 240,
   "metadata": {},
   "outputs": [
    {
     "data": {
      "text/html": [
       "<div>\n",
       "<style scoped>\n",
       "    .dataframe tbody tr th:only-of-type {\n",
       "        vertical-align: middle;\n",
       "    }\n",
       "\n",
       "    .dataframe tbody tr th {\n",
       "        vertical-align: top;\n",
       "    }\n",
       "\n",
       "    .dataframe thead th {\n",
       "        text-align: right;\n",
       "    }\n",
       "</style>\n",
       "<table border=\"1\" class=\"dataframe\">\n",
       "  <thead>\n",
       "    <tr style=\"text-align: right;\">\n",
       "      <th></th>\n",
       "      <th>Reason for absence</th>\n",
       "      <th>Month of absence</th>\n",
       "      <th>Day of the week</th>\n",
       "      <th>Seasons</th>\n",
       "      <th>Transportation expense</th>\n",
       "      <th>Distance from Residence to Work</th>\n",
       "      <th>Service time</th>\n",
       "      <th>Age</th>\n",
       "      <th>Work load Average/day</th>\n",
       "      <th>Hit target</th>\n",
       "      <th>Disciplinary failure</th>\n",
       "      <th>Education</th>\n",
       "      <th>Son</th>\n",
       "      <th>Social drinker</th>\n",
       "      <th>Social smoker</th>\n",
       "      <th>Pet</th>\n",
       "      <th>Weight</th>\n",
       "      <th>Height</th>\n",
       "      <th>Body mass index</th>\n",
       "      <th>Absenteeism time in hours</th>\n",
       "    </tr>\n",
       "  </thead>\n",
       "  <tbody>\n",
       "    <tr>\n",
       "      <th>0</th>\n",
       "      <td>26</td>\n",
       "      <td>7</td>\n",
       "      <td>3</td>\n",
       "      <td>1</td>\n",
       "      <td>289</td>\n",
       "      <td>36</td>\n",
       "      <td>13</td>\n",
       "      <td>33</td>\n",
       "      <td>239.554</td>\n",
       "      <td>97</td>\n",
       "      <td>0</td>\n",
       "      <td>1</td>\n",
       "      <td>2</td>\n",
       "      <td>1</td>\n",
       "      <td>0</td>\n",
       "      <td>1</td>\n",
       "      <td>90</td>\n",
       "      <td>172</td>\n",
       "      <td>30</td>\n",
       "      <td>4</td>\n",
       "    </tr>\n",
       "    <tr>\n",
       "      <th>1</th>\n",
       "      <td>0</td>\n",
       "      <td>7</td>\n",
       "      <td>3</td>\n",
       "      <td>1</td>\n",
       "      <td>118</td>\n",
       "      <td>13</td>\n",
       "      <td>18</td>\n",
       "      <td>50</td>\n",
       "      <td>239.554</td>\n",
       "      <td>97</td>\n",
       "      <td>1</td>\n",
       "      <td>1</td>\n",
       "      <td>1</td>\n",
       "      <td>1</td>\n",
       "      <td>0</td>\n",
       "      <td>0</td>\n",
       "      <td>98</td>\n",
       "      <td>178</td>\n",
       "      <td>31</td>\n",
       "      <td>0</td>\n",
       "    </tr>\n",
       "    <tr>\n",
       "      <th>2</th>\n",
       "      <td>23</td>\n",
       "      <td>7</td>\n",
       "      <td>4</td>\n",
       "      <td>1</td>\n",
       "      <td>179</td>\n",
       "      <td>51</td>\n",
       "      <td>18</td>\n",
       "      <td>38</td>\n",
       "      <td>239.554</td>\n",
       "      <td>97</td>\n",
       "      <td>0</td>\n",
       "      <td>1</td>\n",
       "      <td>0</td>\n",
       "      <td>1</td>\n",
       "      <td>0</td>\n",
       "      <td>0</td>\n",
       "      <td>89</td>\n",
       "      <td>170</td>\n",
       "      <td>31</td>\n",
       "      <td>2</td>\n",
       "    </tr>\n",
       "    <tr>\n",
       "      <th>3</th>\n",
       "      <td>7</td>\n",
       "      <td>7</td>\n",
       "      <td>5</td>\n",
       "      <td>1</td>\n",
       "      <td>279</td>\n",
       "      <td>5</td>\n",
       "      <td>14</td>\n",
       "      <td>39</td>\n",
       "      <td>239.554</td>\n",
       "      <td>97</td>\n",
       "      <td>0</td>\n",
       "      <td>1</td>\n",
       "      <td>2</td>\n",
       "      <td>1</td>\n",
       "      <td>1</td>\n",
       "      <td>0</td>\n",
       "      <td>68</td>\n",
       "      <td>168</td>\n",
       "      <td>24</td>\n",
       "      <td>4</td>\n",
       "    </tr>\n",
       "    <tr>\n",
       "      <th>4</th>\n",
       "      <td>23</td>\n",
       "      <td>7</td>\n",
       "      <td>5</td>\n",
       "      <td>1</td>\n",
       "      <td>289</td>\n",
       "      <td>36</td>\n",
       "      <td>13</td>\n",
       "      <td>33</td>\n",
       "      <td>239.554</td>\n",
       "      <td>97</td>\n",
       "      <td>0</td>\n",
       "      <td>1</td>\n",
       "      <td>2</td>\n",
       "      <td>1</td>\n",
       "      <td>0</td>\n",
       "      <td>1</td>\n",
       "      <td>90</td>\n",
       "      <td>172</td>\n",
       "      <td>30</td>\n",
       "      <td>2</td>\n",
       "    </tr>\n",
       "    <tr>\n",
       "      <th>...</th>\n",
       "      <td>...</td>\n",
       "      <td>...</td>\n",
       "      <td>...</td>\n",
       "      <td>...</td>\n",
       "      <td>...</td>\n",
       "      <td>...</td>\n",
       "      <td>...</td>\n",
       "      <td>...</td>\n",
       "      <td>...</td>\n",
       "      <td>...</td>\n",
       "      <td>...</td>\n",
       "      <td>...</td>\n",
       "      <td>...</td>\n",
       "      <td>...</td>\n",
       "      <td>...</td>\n",
       "      <td>...</td>\n",
       "      <td>...</td>\n",
       "      <td>...</td>\n",
       "      <td>...</td>\n",
       "      <td>...</td>\n",
       "    </tr>\n",
       "    <tr>\n",
       "      <th>735</th>\n",
       "      <td>14</td>\n",
       "      <td>7</td>\n",
       "      <td>3</td>\n",
       "      <td>1</td>\n",
       "      <td>289</td>\n",
       "      <td>36</td>\n",
       "      <td>13</td>\n",
       "      <td>33</td>\n",
       "      <td>264.604</td>\n",
       "      <td>93</td>\n",
       "      <td>0</td>\n",
       "      <td>1</td>\n",
       "      <td>2</td>\n",
       "      <td>1</td>\n",
       "      <td>0</td>\n",
       "      <td>1</td>\n",
       "      <td>90</td>\n",
       "      <td>172</td>\n",
       "      <td>30</td>\n",
       "      <td>8</td>\n",
       "    </tr>\n",
       "    <tr>\n",
       "      <th>736</th>\n",
       "      <td>11</td>\n",
       "      <td>7</td>\n",
       "      <td>3</td>\n",
       "      <td>1</td>\n",
       "      <td>235</td>\n",
       "      <td>11</td>\n",
       "      <td>14</td>\n",
       "      <td>37</td>\n",
       "      <td>264.604</td>\n",
       "      <td>93</td>\n",
       "      <td>0</td>\n",
       "      <td>3</td>\n",
       "      <td>1</td>\n",
       "      <td>0</td>\n",
       "      <td>0</td>\n",
       "      <td>1</td>\n",
       "      <td>88</td>\n",
       "      <td>172</td>\n",
       "      <td>29</td>\n",
       "      <td>4</td>\n",
       "    </tr>\n",
       "    <tr>\n",
       "      <th>737</th>\n",
       "      <td>0</td>\n",
       "      <td>0</td>\n",
       "      <td>3</td>\n",
       "      <td>1</td>\n",
       "      <td>118</td>\n",
       "      <td>14</td>\n",
       "      <td>13</td>\n",
       "      <td>40</td>\n",
       "      <td>271.219</td>\n",
       "      <td>95</td>\n",
       "      <td>0</td>\n",
       "      <td>1</td>\n",
       "      <td>1</td>\n",
       "      <td>1</td>\n",
       "      <td>0</td>\n",
       "      <td>8</td>\n",
       "      <td>98</td>\n",
       "      <td>170</td>\n",
       "      <td>34</td>\n",
       "      <td>0</td>\n",
       "    </tr>\n",
       "    <tr>\n",
       "      <th>738</th>\n",
       "      <td>0</td>\n",
       "      <td>0</td>\n",
       "      <td>4</td>\n",
       "      <td>2</td>\n",
       "      <td>231</td>\n",
       "      <td>35</td>\n",
       "      <td>14</td>\n",
       "      <td>39</td>\n",
       "      <td>271.219</td>\n",
       "      <td>95</td>\n",
       "      <td>0</td>\n",
       "      <td>1</td>\n",
       "      <td>2</td>\n",
       "      <td>1</td>\n",
       "      <td>0</td>\n",
       "      <td>2</td>\n",
       "      <td>100</td>\n",
       "      <td>170</td>\n",
       "      <td>35</td>\n",
       "      <td>0</td>\n",
       "    </tr>\n",
       "    <tr>\n",
       "      <th>739</th>\n",
       "      <td>0</td>\n",
       "      <td>0</td>\n",
       "      <td>6</td>\n",
       "      <td>3</td>\n",
       "      <td>179</td>\n",
       "      <td>45</td>\n",
       "      <td>14</td>\n",
       "      <td>53</td>\n",
       "      <td>271.219</td>\n",
       "      <td>95</td>\n",
       "      <td>0</td>\n",
       "      <td>1</td>\n",
       "      <td>1</td>\n",
       "      <td>0</td>\n",
       "      <td>0</td>\n",
       "      <td>1</td>\n",
       "      <td>77</td>\n",
       "      <td>175</td>\n",
       "      <td>25</td>\n",
       "      <td>0</td>\n",
       "    </tr>\n",
       "  </tbody>\n",
       "</table>\n",
       "<p>740 rows × 20 columns</p>\n",
       "</div>"
      ],
      "text/plain": [
       "     Reason for absence  Month of absence  Day of the week  Seasons  \\\n",
       "0                    26                 7                3        1   \n",
       "1                     0                 7                3        1   \n",
       "2                    23                 7                4        1   \n",
       "3                     7                 7                5        1   \n",
       "4                    23                 7                5        1   \n",
       "..                  ...               ...              ...      ...   \n",
       "735                  14                 7                3        1   \n",
       "736                  11                 7                3        1   \n",
       "737                   0                 0                3        1   \n",
       "738                   0                 0                4        2   \n",
       "739                   0                 0                6        3   \n",
       "\n",
       "     Transportation expense  Distance from Residence to Work  Service time  \\\n",
       "0                       289                               36            13   \n",
       "1                       118                               13            18   \n",
       "2                       179                               51            18   \n",
       "3                       279                                5            14   \n",
       "4                       289                               36            13   \n",
       "..                      ...                              ...           ...   \n",
       "735                     289                               36            13   \n",
       "736                     235                               11            14   \n",
       "737                     118                               14            13   \n",
       "738                     231                               35            14   \n",
       "739                     179                               45            14   \n",
       "\n",
       "     Age  Work load Average/day   Hit target  Disciplinary failure  Education  \\\n",
       "0     33                 239.554          97                     0          1   \n",
       "1     50                 239.554          97                     1          1   \n",
       "2     38                 239.554          97                     0          1   \n",
       "3     39                 239.554          97                     0          1   \n",
       "4     33                 239.554          97                     0          1   \n",
       "..   ...                     ...         ...                   ...        ...   \n",
       "735   33                 264.604          93                     0          1   \n",
       "736   37                 264.604          93                     0          3   \n",
       "737   40                 271.219          95                     0          1   \n",
       "738   39                 271.219          95                     0          1   \n",
       "739   53                 271.219          95                     0          1   \n",
       "\n",
       "     Son  Social drinker  Social smoker  Pet  Weight  Height  Body mass index  \\\n",
       "0      2               1              0    1      90     172               30   \n",
       "1      1               1              0    0      98     178               31   \n",
       "2      0               1              0    0      89     170               31   \n",
       "3      2               1              1    0      68     168               24   \n",
       "4      2               1              0    1      90     172               30   \n",
       "..   ...             ...            ...  ...     ...     ...              ...   \n",
       "735    2               1              0    1      90     172               30   \n",
       "736    1               0              0    1      88     172               29   \n",
       "737    1               1              0    8      98     170               34   \n",
       "738    2               1              0    2     100     170               35   \n",
       "739    1               0              0    1      77     175               25   \n",
       "\n",
       "     Absenteeism time in hours  \n",
       "0                            4  \n",
       "1                            0  \n",
       "2                            2  \n",
       "3                            4  \n",
       "4                            2  \n",
       "..                         ...  \n",
       "735                          8  \n",
       "736                          4  \n",
       "737                          0  \n",
       "738                          0  \n",
       "739                          0  \n",
       "\n",
       "[740 rows x 20 columns]"
      ]
     },
     "execution_count": 240,
     "metadata": {},
     "output_type": "execute_result"
    }
   ],
   "source": [
    "df"
   ]
  },
  {
   "cell_type": "code",
   "execution_count": 241,
   "metadata": {},
   "outputs": [],
   "source": [
    "df['Absent'] = b #classification target"
   ]
  },
  {
   "cell_type": "code",
   "execution_count": 242,
   "metadata": {},
   "outputs": [],
   "source": [
    "df.drop(columns = ['Reason for absence', 'Absenteeism time in hours'], inplace = True) #it will be obvious if we include the reason for absence and absenteeism time"
   ]
  },
  {
   "cell_type": "code",
   "execution_count": 243,
   "metadata": {},
   "outputs": [],
   "source": [
    "df.drop(columns = ['Month of absence', 'Day of the week'], inplace = True) #it will be obvious if we include the month of absence and day of week. We use seasons instead (season more inmpactful to person's health)"
   ]
  },
  {
   "cell_type": "code",
   "execution_count": 245,
   "metadata": {},
   "outputs": [],
   "source": [
    "X = df.drop(columns = 'Absent')\n",
    "y = df['Absent']\n",
    "X_train, X_test, y_train, y_test = train_test_split(X,y, stratify = y , test_size = 0.3, random_state =42)"
   ]
  },
  {
   "cell_type": "code",
   "execution_count": 246,
   "metadata": {},
   "outputs": [
    {
     "data": {
      "text/plain": [
       "1    0.940541\n",
       "0    0.059459\n",
       "Name: Absent, dtype: float64"
      ]
     },
     "execution_count": 246,
     "metadata": {},
     "output_type": "execute_result"
    }
   ],
   "source": [
    "df['Absent'].value_counts(normalize = True)"
   ]
  },
  {
   "cell_type": "markdown",
   "metadata": {},
   "source": [
    "Minority = not absent\n",
    "majority = absent\n",
    "1 = absent (not present)\n",
    "0 = not absent (present)\n",
    "True positive = Actual absent, prediction absent\n",
    "True negative = Actual not absent, prediction not absent\n",
    "False positive =  Actual not absent (present), but the prediction is absent\n",
    "False negative = Actual absent but the prediction is present -> main concern \n",
    "\n",
    "MAIN CONCERN\n",
    "- our main concern is to supress the number of false negative while also having least number of false positive. (balancing)\n",
    "- Why we want to balance out the false positive and false negative. \n",
    "  Case:\n",
    "  After detecting the employee that tends to go sick. the company apporach is to examine the employees health to mental-wellness-program and healthy-program. Also taking several health examination. If we have big false positive then company have to pay more for the program and examination (more people that detected tends to go absent but the actual he is healthy). Also we need to supress the false negative so that our prediction is more likely to be accurate in predicting people that tends to go absent.\n",
    "  \n",
    "Because the data is imbalance so we focus on tuning the minority class which is 0 (not absent) to get more accurate prediction"
   ]
  },
  {
   "cell_type": "code",
   "execution_count": 247,
   "metadata": {},
   "outputs": [
    {
     "data": {
      "text/html": [
       "<div>\n",
       "<style scoped>\n",
       "    .dataframe tbody tr th:only-of-type {\n",
       "        vertical-align: middle;\n",
       "    }\n",
       "\n",
       "    .dataframe tbody tr th {\n",
       "        vertical-align: top;\n",
       "    }\n",
       "\n",
       "    .dataframe thead th {\n",
       "        text-align: right;\n",
       "    }\n",
       "</style>\n",
       "<table border=\"1\" class=\"dataframe\">\n",
       "  <thead>\n",
       "    <tr style=\"text-align: right;\">\n",
       "      <th></th>\n",
       "      <th>Seasons</th>\n",
       "      <th>Transportation expense</th>\n",
       "      <th>Distance from Residence to Work</th>\n",
       "      <th>Service time</th>\n",
       "      <th>Age</th>\n",
       "      <th>Work load Average/day</th>\n",
       "      <th>Hit target</th>\n",
       "      <th>Disciplinary failure</th>\n",
       "      <th>Education</th>\n",
       "      <th>Son</th>\n",
       "      <th>Social drinker</th>\n",
       "      <th>Social smoker</th>\n",
       "      <th>Pet</th>\n",
       "      <th>Weight</th>\n",
       "      <th>Height</th>\n",
       "      <th>Body mass index</th>\n",
       "      <th>Absent</th>\n",
       "    </tr>\n",
       "  </thead>\n",
       "  <tbody>\n",
       "    <tr>\n",
       "      <th>0</th>\n",
       "      <td>1</td>\n",
       "      <td>289</td>\n",
       "      <td>36</td>\n",
       "      <td>13</td>\n",
       "      <td>33</td>\n",
       "      <td>239.554</td>\n",
       "      <td>97</td>\n",
       "      <td>0</td>\n",
       "      <td>1</td>\n",
       "      <td>2</td>\n",
       "      <td>1</td>\n",
       "      <td>0</td>\n",
       "      <td>1</td>\n",
       "      <td>90</td>\n",
       "      <td>172</td>\n",
       "      <td>30</td>\n",
       "      <td>1</td>\n",
       "    </tr>\n",
       "    <tr>\n",
       "      <th>1</th>\n",
       "      <td>1</td>\n",
       "      <td>118</td>\n",
       "      <td>13</td>\n",
       "      <td>18</td>\n",
       "      <td>50</td>\n",
       "      <td>239.554</td>\n",
       "      <td>97</td>\n",
       "      <td>1</td>\n",
       "      <td>1</td>\n",
       "      <td>1</td>\n",
       "      <td>1</td>\n",
       "      <td>0</td>\n",
       "      <td>0</td>\n",
       "      <td>98</td>\n",
       "      <td>178</td>\n",
       "      <td>31</td>\n",
       "      <td>0</td>\n",
       "    </tr>\n",
       "    <tr>\n",
       "      <th>2</th>\n",
       "      <td>1</td>\n",
       "      <td>179</td>\n",
       "      <td>51</td>\n",
       "      <td>18</td>\n",
       "      <td>38</td>\n",
       "      <td>239.554</td>\n",
       "      <td>97</td>\n",
       "      <td>0</td>\n",
       "      <td>1</td>\n",
       "      <td>0</td>\n",
       "      <td>1</td>\n",
       "      <td>0</td>\n",
       "      <td>0</td>\n",
       "      <td>89</td>\n",
       "      <td>170</td>\n",
       "      <td>31</td>\n",
       "      <td>1</td>\n",
       "    </tr>\n",
       "    <tr>\n",
       "      <th>3</th>\n",
       "      <td>1</td>\n",
       "      <td>279</td>\n",
       "      <td>5</td>\n",
       "      <td>14</td>\n",
       "      <td>39</td>\n",
       "      <td>239.554</td>\n",
       "      <td>97</td>\n",
       "      <td>0</td>\n",
       "      <td>1</td>\n",
       "      <td>2</td>\n",
       "      <td>1</td>\n",
       "      <td>1</td>\n",
       "      <td>0</td>\n",
       "      <td>68</td>\n",
       "      <td>168</td>\n",
       "      <td>24</td>\n",
       "      <td>1</td>\n",
       "    </tr>\n",
       "    <tr>\n",
       "      <th>4</th>\n",
       "      <td>1</td>\n",
       "      <td>289</td>\n",
       "      <td>36</td>\n",
       "      <td>13</td>\n",
       "      <td>33</td>\n",
       "      <td>239.554</td>\n",
       "      <td>97</td>\n",
       "      <td>0</td>\n",
       "      <td>1</td>\n",
       "      <td>2</td>\n",
       "      <td>1</td>\n",
       "      <td>0</td>\n",
       "      <td>1</td>\n",
       "      <td>90</td>\n",
       "      <td>172</td>\n",
       "      <td>30</td>\n",
       "      <td>1</td>\n",
       "    </tr>\n",
       "    <tr>\n",
       "      <th>...</th>\n",
       "      <td>...</td>\n",
       "      <td>...</td>\n",
       "      <td>...</td>\n",
       "      <td>...</td>\n",
       "      <td>...</td>\n",
       "      <td>...</td>\n",
       "      <td>...</td>\n",
       "      <td>...</td>\n",
       "      <td>...</td>\n",
       "      <td>...</td>\n",
       "      <td>...</td>\n",
       "      <td>...</td>\n",
       "      <td>...</td>\n",
       "      <td>...</td>\n",
       "      <td>...</td>\n",
       "      <td>...</td>\n",
       "      <td>...</td>\n",
       "    </tr>\n",
       "    <tr>\n",
       "      <th>735</th>\n",
       "      <td>1</td>\n",
       "      <td>289</td>\n",
       "      <td>36</td>\n",
       "      <td>13</td>\n",
       "      <td>33</td>\n",
       "      <td>264.604</td>\n",
       "      <td>93</td>\n",
       "      <td>0</td>\n",
       "      <td>1</td>\n",
       "      <td>2</td>\n",
       "      <td>1</td>\n",
       "      <td>0</td>\n",
       "      <td>1</td>\n",
       "      <td>90</td>\n",
       "      <td>172</td>\n",
       "      <td>30</td>\n",
       "      <td>1</td>\n",
       "    </tr>\n",
       "    <tr>\n",
       "      <th>736</th>\n",
       "      <td>1</td>\n",
       "      <td>235</td>\n",
       "      <td>11</td>\n",
       "      <td>14</td>\n",
       "      <td>37</td>\n",
       "      <td>264.604</td>\n",
       "      <td>93</td>\n",
       "      <td>0</td>\n",
       "      <td>3</td>\n",
       "      <td>1</td>\n",
       "      <td>0</td>\n",
       "      <td>0</td>\n",
       "      <td>1</td>\n",
       "      <td>88</td>\n",
       "      <td>172</td>\n",
       "      <td>29</td>\n",
       "      <td>1</td>\n",
       "    </tr>\n",
       "    <tr>\n",
       "      <th>737</th>\n",
       "      <td>1</td>\n",
       "      <td>118</td>\n",
       "      <td>14</td>\n",
       "      <td>13</td>\n",
       "      <td>40</td>\n",
       "      <td>271.219</td>\n",
       "      <td>95</td>\n",
       "      <td>0</td>\n",
       "      <td>1</td>\n",
       "      <td>1</td>\n",
       "      <td>1</td>\n",
       "      <td>0</td>\n",
       "      <td>8</td>\n",
       "      <td>98</td>\n",
       "      <td>170</td>\n",
       "      <td>34</td>\n",
       "      <td>0</td>\n",
       "    </tr>\n",
       "    <tr>\n",
       "      <th>738</th>\n",
       "      <td>2</td>\n",
       "      <td>231</td>\n",
       "      <td>35</td>\n",
       "      <td>14</td>\n",
       "      <td>39</td>\n",
       "      <td>271.219</td>\n",
       "      <td>95</td>\n",
       "      <td>0</td>\n",
       "      <td>1</td>\n",
       "      <td>2</td>\n",
       "      <td>1</td>\n",
       "      <td>0</td>\n",
       "      <td>2</td>\n",
       "      <td>100</td>\n",
       "      <td>170</td>\n",
       "      <td>35</td>\n",
       "      <td>0</td>\n",
       "    </tr>\n",
       "    <tr>\n",
       "      <th>739</th>\n",
       "      <td>3</td>\n",
       "      <td>179</td>\n",
       "      <td>45</td>\n",
       "      <td>14</td>\n",
       "      <td>53</td>\n",
       "      <td>271.219</td>\n",
       "      <td>95</td>\n",
       "      <td>0</td>\n",
       "      <td>1</td>\n",
       "      <td>1</td>\n",
       "      <td>0</td>\n",
       "      <td>0</td>\n",
       "      <td>1</td>\n",
       "      <td>77</td>\n",
       "      <td>175</td>\n",
       "      <td>25</td>\n",
       "      <td>0</td>\n",
       "    </tr>\n",
       "  </tbody>\n",
       "</table>\n",
       "<p>740 rows × 17 columns</p>\n",
       "</div>"
      ],
      "text/plain": [
       "     Seasons  Transportation expense  Distance from Residence to Work  \\\n",
       "0          1                     289                               36   \n",
       "1          1                     118                               13   \n",
       "2          1                     179                               51   \n",
       "3          1                     279                                5   \n",
       "4          1                     289                               36   \n",
       "..       ...                     ...                              ...   \n",
       "735        1                     289                               36   \n",
       "736        1                     235                               11   \n",
       "737        1                     118                               14   \n",
       "738        2                     231                               35   \n",
       "739        3                     179                               45   \n",
       "\n",
       "     Service time  Age  Work load Average/day   Hit target  \\\n",
       "0              13   33                 239.554          97   \n",
       "1              18   50                 239.554          97   \n",
       "2              18   38                 239.554          97   \n",
       "3              14   39                 239.554          97   \n",
       "4              13   33                 239.554          97   \n",
       "..            ...  ...                     ...         ...   \n",
       "735            13   33                 264.604          93   \n",
       "736            14   37                 264.604          93   \n",
       "737            13   40                 271.219          95   \n",
       "738            14   39                 271.219          95   \n",
       "739            14   53                 271.219          95   \n",
       "\n",
       "     Disciplinary failure  Education  Son  Social drinker  Social smoker  Pet  \\\n",
       "0                       0          1    2               1              0    1   \n",
       "1                       1          1    1               1              0    0   \n",
       "2                       0          1    0               1              0    0   \n",
       "3                       0          1    2               1              1    0   \n",
       "4                       0          1    2               1              0    1   \n",
       "..                    ...        ...  ...             ...            ...  ...   \n",
       "735                     0          1    2               1              0    1   \n",
       "736                     0          3    1               0              0    1   \n",
       "737                     0          1    1               1              0    8   \n",
       "738                     0          1    2               1              0    2   \n",
       "739                     0          1    1               0              0    1   \n",
       "\n",
       "     Weight  Height  Body mass index  Absent  \n",
       "0        90     172               30       1  \n",
       "1        98     178               31       0  \n",
       "2        89     170               31       1  \n",
       "3        68     168               24       1  \n",
       "4        90     172               30       1  \n",
       "..      ...     ...              ...     ...  \n",
       "735      90     172               30       1  \n",
       "736      88     172               29       1  \n",
       "737      98     170               34       0  \n",
       "738     100     170               35       0  \n",
       "739      77     175               25       0  \n",
       "\n",
       "[740 rows x 17 columns]"
      ]
     },
     "execution_count": 247,
     "metadata": {},
     "output_type": "execute_result"
    }
   ],
   "source": [
    "df"
   ]
  },
  {
   "cell_type": "code",
   "execution_count": 248,
   "metadata": {},
   "outputs": [
    {
     "data": {
      "text/plain": [
       "LogisticRegression()"
      ]
     },
     "execution_count": 248,
     "metadata": {},
     "output_type": "execute_result"
    }
   ],
   "source": [
    "# Base model\n",
    "LR = LogisticRegression()\n",
    "LR.fit(X_train,y_train)"
   ]
  },
  {
   "cell_type": "code",
   "execution_count": 249,
   "metadata": {},
   "outputs": [
    {
     "name": "stdout",
     "output_type": "stream",
     "text": [
      "              precision    recall  f1-score   support\n",
      "\n",
      "           0       0.50      0.15      0.24        13\n",
      "           1       0.95      0.99      0.97       209\n",
      "\n",
      "    accuracy                           0.94       222\n",
      "   macro avg       0.72      0.57      0.60       222\n",
      "weighted avg       0.92      0.94      0.93       222\n",
      "\n"
     ]
    },
    {
     "data": {
      "image/png": "[encoded data removed]",
      "text/plain": [
       "<Figure size 432x288 with 2 Axes>"
      ]
     },
     "metadata": {
      "needs_background": "light"
     },
     "output_type": "display_data"
    }
   ],
   "source": [
    "y_LR_test = LR.predict(X_test)\n",
    "print(classification_report(y_test, y_LR_test))\n",
    "cm_LR_test = confusion_matrix(y_test, y_LR_test, labels = [1,0])\n",
    "df_LR_test = pd.DataFrame(data=cm_LR_test, columns=['Pred 1', 'Pred 0'], index=['Akt 1', 'Akt 0'])\n",
    "sns.heatmap(df_LR_test, annot=True)\n",
    "plt.show()"
   ]
  },
  {
   "cell_type": "code",
   "execution_count": 250,
   "metadata": {},
   "outputs": [
    {
     "data": {
      "text/plain": [
       "KNeighborsClassifier()"
      ]
     },
     "execution_count": 250,
     "metadata": {},
     "output_type": "execute_result"
    }
   ],
   "source": [
    "\n",
    "KNN = KNeighborsClassifier()\n",
    "KNN.fit(X_train,y_train)"
   ]
  },
  {
   "cell_type": "code",
   "execution_count": 251,
   "metadata": {},
   "outputs": [
    {
     "name": "stdout",
     "output_type": "stream",
     "text": [
      "              precision    recall  f1-score   support\n",
      "\n",
      "           0       0.00      0.00      0.00        13\n",
      "           1       0.94      1.00      0.97       209\n",
      "\n",
      "    accuracy                           0.94       222\n",
      "   macro avg       0.47      0.50      0.48       222\n",
      "weighted avg       0.89      0.94      0.91       222\n",
      "\n"
     ]
    },
    {
     "data": {
      "image/png": "[encoded data removed]",
      "text/plain": [
       "<Figure size 432x288 with 2 Axes>"
      ]
     },
     "metadata": {
      "needs_background": "light"
     },
     "output_type": "display_data"
    }
   ],
   "source": [
    "y_KNN_test = KNN.predict(X_test)\n",
    "print(classification_report(y_test, y_KNN_test))\n",
    "cm_KNN_test = confusion_matrix(y_test, y_KNN_test, labels = [1,0])\n",
    "df_KNN_test = pd.DataFrame(data=cm_KNN_test, columns=['Pred 1', 'Pred 0'], index=['Akt 1', 'Akt 0'])\n",
    "sns.heatmap(df_KNN_test, annot=True)\n",
    "plt.show()"
   ]
  },
  {
   "cell_type": "code",
   "execution_count": 252,
   "metadata": {},
   "outputs": [
    {
     "data": {
      "text/plain": [
       "SVC()"
      ]
     },
     "execution_count": 252,
     "metadata": {},
     "output_type": "execute_result"
    }
   ],
   "source": [
    "\n",
    "SVM = SVC()\n",
    "SVM.fit(X_train,y_train)"
   ]
  },
  {
   "cell_type": "code",
   "execution_count": 253,
   "metadata": {},
   "outputs": [
    {
     "name": "stdout",
     "output_type": "stream",
     "text": [
      "              precision    recall  f1-score   support\n",
      "\n",
      "           0       0.00      0.00      0.00        13\n",
      "           1       0.94      1.00      0.97       209\n",
      "\n",
      "    accuracy                           0.94       222\n",
      "   macro avg       0.47      0.50      0.48       222\n",
      "weighted avg       0.89      0.94      0.91       222\n",
      "\n"
     ]
    },
    {
     "data": {
      "image/png": "[encoded data removed]",
      "text/plain": [
       "<Figure size 432x288 with 2 Axes>"
      ]
     },
     "metadata": {
      "needs_background": "light"
     },
     "output_type": "display_data"
    }
   ],
   "source": [
    "y_SVM_test = SVM.predict(X_test)\n",
    "print(classification_report(y_test, y_SVM_test))\n",
    "cm_SVM_test = confusion_matrix(y_test, y_SVM_test, labels = [1,0])\n",
    "df_SVM_test = pd.DataFrame(data=cm_SVM_test, columns=['Pred 1', 'Pred 0'], index=['Akt 1', 'Akt 0'])\n",
    "sns.heatmap(df_SVM_test, annot=True)\n",
    "plt.show()"
   ]
  },
  {
   "cell_type": "code",
   "execution_count": 254,
   "metadata": {},
   "outputs": [
    {
     "data": {
      "text/plain": [
       "DecisionTreeClassifier()"
      ]
     },
     "execution_count": 254,
     "metadata": {},
     "output_type": "execute_result"
    }
   ],
   "source": [
    "DT = DecisionTreeClassifier()\n",
    "DT.fit(X_train,y_train)"
   ]
  },
  {
   "cell_type": "code",
   "execution_count": 255,
   "metadata": {},
   "outputs": [
    {
     "name": "stdout",
     "output_type": "stream",
     "text": [
      "              precision    recall  f1-score   support\n",
      "\n",
      "           0       1.00      0.85      0.92        13\n",
      "           1       0.99      1.00      1.00       209\n",
      "\n",
      "    accuracy                           0.99       222\n",
      "   macro avg       1.00      0.92      0.96       222\n",
      "weighted avg       0.99      0.99      0.99       222\n",
      "\n"
     ]
    },
    {
     "data": {
      "image/png": "[encoded data removed]",
      "text/plain": [
       "<Figure size 432x288 with 2 Axes>"
      ]
     },
     "metadata": {
      "needs_background": "light"
     },
     "output_type": "display_data"
    }
   ],
   "source": [
    "y_DT_test = DT.predict(X_test)\n",
    "print(classification_report(y_test, y_DT_test))\n",
    "cm_DT_test = confusion_matrix(y_test, y_DT_test, labels = [1,0])\n",
    "df_DT_test = pd.DataFrame(data=cm_KNN_test, columns=['Pred 1', 'Pred 0'], index=['Akt 1', 'Akt 0'])\n",
    "sns.heatmap(df_DT_test, annot=True)\n",
    "plt.show()"
   ]
  },
  {
   "cell_type": "code",
   "execution_count": 256,
   "metadata": {},
   "outputs": [
    {
     "data": {
      "text/plain": [
       "RandomForestClassifier()"
      ]
     },
     "execution_count": 256,
     "metadata": {},
     "output_type": "execute_result"
    }
   ],
   "source": [
    "RF = RandomForestClassifier()\n",
    "RF.fit(X_train,y_train)"
   ]
  },
  {
   "cell_type": "code",
   "execution_count": 257,
   "metadata": {},
   "outputs": [
    {
     "name": "stdout",
     "output_type": "stream",
     "text": [
      "              precision    recall  f1-score   support\n",
      "\n",
      "           0       1.00      0.85      0.92        13\n",
      "           1       0.99      1.00      1.00       209\n",
      "\n",
      "    accuracy                           0.99       222\n",
      "   macro avg       1.00      0.92      0.96       222\n",
      "weighted avg       0.99      0.99      0.99       222\n",
      "\n"
     ]
    },
    {
     "data": {
      "image/png": "[encoded data removed]",
      "text/plain": [
       "<Figure size 432x288 with 2 Axes>"
      ]
     },
     "metadata": {
      "needs_background": "light"
     },
     "output_type": "display_data"
    }
   ],
   "source": [
    "y_RF_test = RF.predict(X_test)\n",
    "print(classification_report(y_test, y_RF_test))\n",
    "cm_RF_test = confusion_matrix(y_test, y_RF_test, labels = [1,0])\n",
    "df_RF_test = pd.DataFrame(data=cm_RF_test, columns=['Pred 1', 'Pred 0'], index=['Akt 1', 'Akt 0'])\n",
    "sns.heatmap(df_RF_test, annot=True)\n",
    "plt.show()"
   ]
  },
  {
   "cell_type": "markdown",
   "metadata": {},
   "source": [
    "# Conclusion on base model\n",
    "- Random forest has the best recall  in the MINORITY CLASS.\n",
    "- Decision Tree 2nd best but it has higher false positive\n",
    "- KNN and SVM recall-precision score is far from accurate\n",
    "- Logreg still can be improved"
   ]
  },
  {
   "cell_type": "code",
   "execution_count": 258,
   "metadata": {},
   "outputs": [],
   "source": [
    "# Feature engineering"
   ]
  },
  {
   "cell_type": "code",
   "execution_count": 260,
   "metadata": {},
   "outputs": [],
   "source": [
    "pipeline_LR = Pipeline([\n",
    "    ('scale', StandardScaler()),\n",
    "    ('algo', LogisticRegression())\n",
    "])\n",
    "pipeline_KNN = Pipeline([\n",
    "    ('scale', StandardScaler()),\n",
    "    ('algo', KNeighborsClassifier())\n",
    "])\n",
    "pipeline_SVM = Pipeline([\n",
    "    ('scale', StandardScaler()),\n",
    "    ('algo', SVC())\n",
    "])\n",
    "pipeline_RF = Pipeline([\n",
    "    ('scale', StandardScaler()),\n",
    "    ('algo', RandomForestClassifier())\n",
    "])\n"
   ]
  },
  {
   "cell_type": "code",
   "execution_count": 261,
   "metadata": {},
   "outputs": [
    {
     "data": {
      "text/plain": [
       "Pipeline(steps=[('scale', StandardScaler()), ('algo', LogisticRegression())])"
      ]
     },
     "execution_count": 261,
     "metadata": {},
     "output_type": "execute_result"
    }
   ],
   "source": [
    "pipeline_LR.fit(X_train, y_train)"
   ]
  },
  {
   "cell_type": "code",
   "execution_count": 262,
   "metadata": {},
   "outputs": [
    {
     "name": "stdout",
     "output_type": "stream",
     "text": [
      "              precision    recall  f1-score   support\n",
      "\n",
      "           0       1.00      0.85      0.92        13\n",
      "           1       0.99      1.00      1.00       209\n",
      "\n",
      "    accuracy                           0.99       222\n",
      "   macro avg       1.00      0.92      0.96       222\n",
      "weighted avg       0.99      0.99      0.99       222\n",
      "\n"
     ]
    },
    {
     "data": {
      "image/png": "[encoded data removed]",
      "text/plain": [
       "<Figure size 432x288 with 2 Axes>"
      ]
     },
     "metadata": {
      "needs_background": "light"
     },
     "output_type": "display_data"
    }
   ],
   "source": [
    "y_LRT_test = pipeline_LR.predict(X_test)\n",
    "print(classification_report(y_test, y_LRT_test))\n",
    "cm_LRT_test = confusion_matrix(y_test, y_LRT_test, labels = [1,0])\n",
    "df_LRT_test = pd.DataFrame(data=cm_LRT_test, columns=['Pred 1', 'Pred 0'], index=['Akt 1', 'Akt 0'])\n",
    "sns.heatmap(df_LRT_test, annot=True)\n",
    "plt.show()"
   ]
  },
  {
   "cell_type": "code",
   "execution_count": 263,
   "metadata": {},
   "outputs": [
    {
     "data": {
      "text/plain": [
       "Pipeline(steps=[('scale', StandardScaler()), ('algo', KNeighborsClassifier())])"
      ]
     },
     "execution_count": 263,
     "metadata": {},
     "output_type": "execute_result"
    }
   ],
   "source": [
    "pipeline_KNN.fit(X_train, y_train)"
   ]
  },
  {
   "cell_type": "code",
   "execution_count": 264,
   "metadata": {},
   "outputs": [
    {
     "name": "stdout",
     "output_type": "stream",
     "text": [
      "              precision    recall  f1-score   support\n",
      "\n",
      "           0       1.00      0.85      0.92        13\n",
      "           1       0.99      1.00      1.00       209\n",
      "\n",
      "    accuracy                           0.99       222\n",
      "   macro avg       1.00      0.92      0.96       222\n",
      "weighted avg       0.99      0.99      0.99       222\n",
      "\n"
     ]
    },
    {
     "data": {
      "image/png": "[encoded data removed]",
      "text/plain": [
       "<Figure size 432x288 with 2 Axes>"
      ]
     },
     "metadata": {
      "needs_background": "light"
     },
     "output_type": "display_data"
    }
   ],
   "source": [
    "y_KNNT_test = pipeline_KNN.predict(X_test)\n",
    "print(classification_report(y_test, y_KNNT_test))\n",
    "cm_KNNT_test = confusion_matrix(y_test, y_KNNT_test, labels = [1,0])\n",
    "df_KNNT_test = pd.DataFrame(data=cm_KNNT_test, columns=['Pred 1', 'Pred 0'], index=['Akt 1', 'Akt 0'])\n",
    "sns.heatmap(df_KNNT_test, annot=True)\n",
    "plt.show()"
   ]
  },
  {
   "cell_type": "code",
   "execution_count": 265,
   "metadata": {},
   "outputs": [
    {
     "data": {
      "text/plain": [
       "Pipeline(steps=[('scale', StandardScaler()), ('algo', SVC())])"
      ]
     },
     "execution_count": 265,
     "metadata": {},
     "output_type": "execute_result"
    }
   ],
   "source": [
    "pipeline_SVM.fit(X_train, y_train)"
   ]
  },
  {
   "cell_type": "code",
   "execution_count": 266,
   "metadata": {},
   "outputs": [
    {
     "name": "stdout",
     "output_type": "stream",
     "text": [
      "              precision    recall  f1-score   support\n",
      "\n",
      "           0       1.00      0.85      0.92        13\n",
      "           1       0.99      1.00      1.00       209\n",
      "\n",
      "    accuracy                           0.99       222\n",
      "   macro avg       1.00      0.92      0.96       222\n",
      "weighted avg       0.99      0.99      0.99       222\n",
      "\n"
     ]
    },
    {
     "data": {
      "image/png": "[encoded data removed]",
      "text/plain": [
       "<Figure size 432x288 with 2 Axes>"
      ]
     },
     "metadata": {
      "needs_background": "light"
     },
     "output_type": "display_data"
    }
   ],
   "source": [
    "y_SVM_test = pipeline_SVM.predict(X_test)\n",
    "print(classification_report(y_test, y_SVM_test))\n",
    "cm_SVM_test = confusion_matrix(y_test, y_SVM_test, labels = [1,0])\n",
    "df_SVM_test = pd.DataFrame(data=cm_SVM_test, columns=['Pred 1', 'Pred 0'], index=['Akt 1', 'Akt 0'])\n",
    "sns.heatmap(df_SVM_test, annot=True)\n",
    "plt.show()"
   ]
  },
  {
   "cell_type": "code",
   "execution_count": 267,
   "metadata": {},
   "outputs": [
    {
     "data": {
      "text/plain": [
       "Pipeline(steps=[('scale', StandardScaler()),\n",
       "                ('algo', RandomForestClassifier())])"
      ]
     },
     "execution_count": 267,
     "metadata": {},
     "output_type": "execute_result"
    }
   ],
   "source": [
    "pipeline_RF.fit(X_train, y_train)"
   ]
  },
  {
   "cell_type": "code",
   "execution_count": 268,
   "metadata": {},
   "outputs": [
    {
     "name": "stdout",
     "output_type": "stream",
     "text": [
      "              precision    recall  f1-score   support\n",
      "\n",
      "           0       1.00      0.85      0.92        13\n",
      "           1       0.99      1.00      1.00       209\n",
      "\n",
      "    accuracy                           0.99       222\n",
      "   macro avg       1.00      0.92      0.96       222\n",
      "weighted avg       0.99      0.99      0.99       222\n",
      "\n"
     ]
    },
    {
     "data": {
      "image/png": "[encoded data removed]",
      "text/plain": [
       "<Figure size 432x288 with 2 Axes>"
      ]
     },
     "metadata": {
      "needs_background": "light"
     },
     "output_type": "display_data"
    }
   ],
   "source": [
    "y_RF2_test = pipeline_RF.predict(X_test)\n",
    "print(classification_report(y_test, y_RF2_test))\n",
    "cm_RF2_test = confusion_matrix(y_test, y_RF2_test, labels = [1,0])\n",
    "df_RF2_test = pd.DataFrame(data=cm_RF2_test, columns=['Pred 1', 'Pred 0'], index=['Akt 1', 'Akt 0'])\n",
    "sns.heatmap(df_RF2_test, annot=True)\n",
    "plt.show()"
   ]
  },
  {
   "cell_type": "markdown",
   "metadata": {},
   "source": [
    "# conclusion using scalling\n",
    "- well all of the algoritm seems to have great score after scalling. recall = 0.85"
   ]
  },
  {
   "cell_type": "code",
   "execution_count": 269,
   "metadata": {},
   "outputs": [],
   "source": [
    "# Hyperparam"
   ]
  },
  {
   "cell_type": "code",
   "execution_count": 270,
   "metadata": {},
   "outputs": [],
   "source": [
    "param_KNN = {\n",
    "    'algo__n_neighbors': np.arange(1,51,2),\n",
    "    \"algo__p\" : [1,2],\n",
    "    'algo__weights' : ['uniform', 'distance']\n",
    "}"
   ]
  },
  {
   "cell_type": "code",
   "execution_count": 271,
   "metadata": {},
   "outputs": [],
   "source": [
    "skf = StratifiedKFold(n_splits = 3)"
   ]
  },
  {
   "cell_type": "code",
   "execution_count": 272,
   "metadata": {},
   "outputs": [],
   "source": [
    "KNN_GS = GridSearchCV(pipeline_KNN, param_KNN, cv = skf, scoring = 'f1', n_jobs= -1, verbose = 1)"
   ]
  },
  {
   "cell_type": "code",
   "execution_count": 273,
   "metadata": {},
   "outputs": [
    {
     "name": "stdout",
     "output_type": "stream",
     "text": [
      "Fitting 3 folds for each of 100 candidates, totalling 300 fits\n"
     ]
    },
    {
     "name": "stderr",
     "output_type": "stream",
     "text": [
      "[Parallel(n_jobs=-1)]: Using backend LokyBackend with 8 concurrent workers.\n",
      "[Parallel(n_jobs=-1)]: Done  56 tasks      | elapsed:    0.2s\n",
      "[Parallel(n_jobs=-1)]: Done 300 out of 300 | elapsed:    0.9s finished\n"
     ]
    },
    {
     "data": {
      "text/plain": [
       "GridSearchCV(cv=StratifiedKFold(n_splits=3, random_state=None, shuffle=False),\n",
       "             estimator=Pipeline(steps=[('scale', StandardScaler()),\n",
       "                                       ('algo', KNeighborsClassifier())]),\n",
       "             n_jobs=-1,\n",
       "             param_grid={'algo__n_neighbors': array([ 1,  3,  5,  7,  9, 11, 13, 15, 17, 19, 21, 23, 25, 27, 29, 31, 33,\n",
       "       35, 37, 39, 41, 43, 45, 47, 49]),\n",
       "                         'algo__p': [1, 2],\n",
       "                         'algo__weights': ['uniform', 'distance']},\n",
       "             scoring='f1', verbose=1)"
      ]
     },
     "execution_count": 273,
     "metadata": {},
     "output_type": "execute_result"
    }
   ],
   "source": [
    "KNN_GS.fit(X_train,y_train)"
   ]
  },
  {
   "cell_type": "code",
   "execution_count": 274,
   "metadata": {},
   "outputs": [
    {
     "data": {
      "text/plain": [
       "{'algo__n_neighbors': 1, 'algo__p': 2, 'algo__weights': 'uniform'}"
      ]
     },
     "execution_count": 274,
     "metadata": {},
     "output_type": "execute_result"
    }
   ],
   "source": [
    "KNN_GS.best_params_"
   ]
  },
  {
   "cell_type": "code",
   "execution_count": 275,
   "metadata": {},
   "outputs": [
    {
     "name": "stdout",
     "output_type": "stream",
     "text": [
      "              precision    recall  f1-score   support\n",
      "\n",
      "           0       1.00      0.85      0.92        13\n",
      "           1       0.99      1.00      1.00       209\n",
      "\n",
      "    accuracy                           0.99       222\n",
      "   macro avg       1.00      0.92      0.96       222\n",
      "weighted avg       0.99      0.99      0.99       222\n",
      "\n"
     ]
    },
    {
     "data": {
      "image/png": "[encoded data removed]",
      "text/plain": [
       "<Figure size 432x288 with 2 Axes>"
      ]
     },
     "metadata": {
      "needs_background": "light"
     },
     "output_type": "display_data"
    }
   ],
   "source": [
    "KNN_Tuned = KNN_GS.best_estimator_\n",
    "y_KNN2_test = KNN_Tuned.predict(X_test)\n",
    "print(classification_report(y_test, y_KNN2_test))\n",
    "cm_KNN2_test = confusion_matrix(y_test, y_KNN2_test, labels = [1,0])\n",
    "df_KNN2_test = pd.DataFrame(data=cm_KNN2_test, columns=['Pred 1', 'Pred 0'], index=['Akt 1', 'Akt 0'])\n",
    "sns.heatmap(df_SVM_test, annot=True)\n",
    "plt.show()\n"
   ]
  },
  {
   "cell_type": "code",
   "execution_count": 334,
   "metadata": {},
   "outputs": [],
   "source": [
    "param_SVM = {\n",
    "    'algo__C' : np.logspace(-3,3,7),\n",
    "    'algo__gamma' : np.arange(10, 101, 10),\n",
    "    'algo__class_weight': [{0 : 1- x, 1 : x} for x in [.1, .2, .3, .4, .5]]\n",
    "}"
   ]
  },
  {
   "cell_type": "code",
   "execution_count": 335,
   "metadata": {},
   "outputs": [],
   "source": [
    "SVM_GS = GridSearchCV(pipeline_SVM, param_SVM, cv = skf, scoring = 'recall', n_jobs= -1, verbose = 1)"
   ]
  },
  {
   "cell_type": "code",
   "execution_count": 336,
   "metadata": {},
   "outputs": [
    {
     "name": "stdout",
     "output_type": "stream",
     "text": [
      "Fitting 3 folds for each of 350 candidates, totalling 1050 fits\n"
     ]
    },
    {
     "name": "stderr",
     "output_type": "stream",
     "text": [
      "[Parallel(n_jobs=-1)]: Using backend LokyBackend with 8 concurrent workers.\n",
      "[Parallel(n_jobs=-1)]: Done  56 tasks      | elapsed:    0.2s\n",
      "[Parallel(n_jobs=-1)]: Done 1050 out of 1050 | elapsed:    3.0s finished\n"
     ]
    },
    {
     "data": {
      "text/plain": [
       "GridSearchCV(cv=StratifiedKFold(n_splits=3, random_state=None, shuffle=False),\n",
       "             estimator=Pipeline(steps=[('scale', StandardScaler()),\n",
       "                                       ('algo', SVC())]),\n",
       "             n_jobs=-1,\n",
       "             param_grid={'algo__C': array([1.e-03, 1.e-02, 1.e-01, 1.e+00, 1.e+01, 1.e+02, 1.e+03]),\n",
       "                         'algo__class_weight': [{0: 0.9, 1: 0.1},\n",
       "                                                {0: 0.8, 1: 0.2},\n",
       "                                                {0: 0.7, 1: 0.3},\n",
       "                                                {0: 0.6, 1: 0.4},\n",
       "                                                {0: 0.5, 1: 0.5}],\n",
       "                         'algo__gamma': array([ 10,  20,  30,  40,  50,  60,  70,  80,  90, 100])},\n",
       "             scoring='recall', verbose=1)"
      ]
     },
     "execution_count": 336,
     "metadata": {},
     "output_type": "execute_result"
    }
   ],
   "source": [
    "SVM_GS.fit(X_train,y_train)"
   ]
  },
  {
   "cell_type": "code",
   "execution_count": 337,
   "metadata": {},
   "outputs": [
    {
     "data": {
      "text/plain": [
       "{'algo__C': 0.001, 'algo__class_weight': {0: 0.9, 1: 0.1}, 'algo__gamma': 10}"
      ]
     },
     "execution_count": 337,
     "metadata": {},
     "output_type": "execute_result"
    }
   ],
   "source": [
    "SVM_GS.best_params_"
   ]
  },
  {
   "cell_type": "code",
   "execution_count": 338,
   "metadata": {},
   "outputs": [
    {
     "name": "stdout",
     "output_type": "stream",
     "text": [
      "              precision    recall  f1-score   support\n",
      "\n",
      "           0       0.00      0.00      0.00        13\n",
      "           1       0.94      1.00      0.97       209\n",
      "\n",
      "    accuracy                           0.94       222\n",
      "   macro avg       0.47      0.50      0.48       222\n",
      "weighted avg       0.89      0.94      0.91       222\n",
      "\n"
     ]
    },
    {
     "data": {
      "image/png": "[encoded data removed]",
      "text/plain": [
       "<Figure size 432x288 with 2 Axes>"
      ]
     },
     "metadata": {
      "needs_background": "light"
     },
     "output_type": "display_data"
    }
   ],
   "source": [
    "SVM_Tuned = SVM_GS.best_estimator_\n",
    "y_SVMT_test = SVM_Tuned.predict(X_test)\n",
    "print(classification_report(y_test, y_SVMT_test))\n",
    "cm_SVMT_test = confusion_matrix(y_test, y_SVMT_test, labels = [1,0])\n",
    "df_SVMT_test = pd.DataFrame(data=cm_SVMT_test, columns=['Pred 1', 'Pred 0'], index=['Akt 1', 'Akt 0'])\n",
    "sns.heatmap(df_SVMT_test, annot=True)\n",
    "plt.show()\n"
   ]
  },
  {
   "cell_type": "code",
   "execution_count": null,
   "metadata": {},
   "outputs": [],
   "source": []
  },
  {
   "cell_type": "code",
   "execution_count": 319,
   "metadata": {},
   "outputs": [],
   "source": [
    "param_RF = {\n",
    "    \"n_estimators\" : np.arange(100, 501, 100), \n",
    "    \"max_depth\" : [None, 5, 10, 15], \n",
    "    \"min_samples_leaf\" : np.arange(1, 17, 5), \n",
    "    \"max_features\" : [0.3, 0.5, 0.7, 0.8],\n",
    "    \"class_weight\" : [{0 : 1- x, 1 : x} for x in [.1, .2, .3, .4, .5]]\n",
    "}"
   ]
  },
  {
   "cell_type": "code",
   "execution_count": 320,
   "metadata": {},
   "outputs": [],
   "source": [
    "RF_T = GridSearchCV(RandomForestClassifier(), param_RF, cv=skf, n_jobs=-1, verbose=1, scoring='recall')"
   ]
  },
  {
   "cell_type": "code",
   "execution_count": 321,
   "metadata": {},
   "outputs": [
    {
     "name": "stdout",
     "output_type": "stream",
     "text": [
      "Fitting 3 folds for each of 1600 candidates, totalling 4800 fits\n"
     ]
    },
    {
     "name": "stderr",
     "output_type": "stream",
     "text": [
      "[Parallel(n_jobs=-1)]: Using backend LokyBackend with 8 concurrent workers.\n",
      "[Parallel(n_jobs=-1)]: Done  34 tasks      | elapsed:    2.3s\n",
      "[Parallel(n_jobs=-1)]: Done 184 tasks      | elapsed:   13.3s\n",
      "[Parallel(n_jobs=-1)]: Done 434 tasks      | elapsed:   31.7s\n",
      "[Parallel(n_jobs=-1)]: Done 784 tasks      | elapsed:   57.6s\n",
      "[Parallel(n_jobs=-1)]: Done 1234 tasks      | elapsed:  1.5min\n",
      "[Parallel(n_jobs=-1)]: Done 1784 tasks      | elapsed:  2.3min\n",
      "[Parallel(n_jobs=-1)]: Done 2434 tasks      | elapsed:  3.1min\n",
      "[Parallel(n_jobs=-1)]: Done 3184 tasks      | elapsed:  4.1min\n",
      "[Parallel(n_jobs=-1)]: Done 4034 tasks      | elapsed:  5.2min\n",
      "[Parallel(n_jobs=-1)]: Done 4800 out of 4800 | elapsed:  6.1min finished\n"
     ]
    },
    {
     "data": {
      "text/plain": [
       "GridSearchCV(cv=StratifiedKFold(n_splits=3, random_state=None, shuffle=False),\n",
       "             estimator=RandomForestClassifier(), n_jobs=-1,\n",
       "             param_grid={'class_weight': [{0: 0.9, 1: 0.1}, {0: 0.8, 1: 0.2},\n",
       "                                          {0: 0.7, 1: 0.3}, {0: 0.6, 1: 0.4},\n",
       "                                          {0: 0.5, 1: 0.5}],\n",
       "                         'max_depth': [None, 5, 10, 15],\n",
       "                         'max_features': [0.3, 0.5, 0.7, 0.8],\n",
       "                         'min_samples_leaf': array([ 1,  6, 11, 16]),\n",
       "                         'n_estimators': array([100, 200, 300, 400, 500])},\n",
       "             scoring='recall', verbose=1)"
      ]
     },
     "execution_count": 321,
     "metadata": {},
     "output_type": "execute_result"
    }
   ],
   "source": [
    "RF_T.fit(X_train, y_train)"
   ]
  },
  {
   "cell_type": "code",
   "execution_count": 322,
   "metadata": {},
   "outputs": [
    {
     "data": {
      "text/plain": [
       "{'class_weight': {0: 0.9, 1: 0.1},\n",
       " 'max_depth': None,\n",
       " 'max_features': 0.3,\n",
       " 'min_samples_leaf': 1,\n",
       " 'n_estimators': 100}"
      ]
     },
     "execution_count": 322,
     "metadata": {},
     "output_type": "execute_result"
    }
   ],
   "source": [
    "RF_T.best_params_"
   ]
  },
  {
   "cell_type": "code",
   "execution_count": 323,
   "metadata": {},
   "outputs": [
    {
     "name": "stdout",
     "output_type": "stream",
     "text": [
      "              precision    recall  f1-score   support\n",
      "\n",
      "           0       1.00      0.85      0.92        13\n",
      "           1       0.99      1.00      1.00       209\n",
      "\n",
      "    accuracy                           0.99       222\n",
      "   macro avg       1.00      0.92      0.96       222\n",
      "weighted avg       0.99      0.99      0.99       222\n",
      "\n"
     ]
    },
    {
     "data": {
      "image/png": "[encoded data removed]",
      "text/plain": [
       "<Figure size 432x288 with 2 Axes>"
      ]
     },
     "metadata": {
      "needs_background": "light"
     },
     "output_type": "display_data"
    }
   ],
   "source": [
    "RF_Tuned = RF_T.best_estimator_\n",
    "y_RF3_test = RF_Tuned.predict(X_test)\n",
    "print(classification_report(y_test, y_RF3_test))\n",
    "cm_RF3_test = confusion_matrix(y_test, y_RF3_test, labels = [1,0])\n",
    "df_RF3_test = pd.DataFrame(data=cm_RF3_test, columns=['Pred 1', 'Pred 0'], index=['Akt 1', 'Akt 0'])\n",
    "sns.heatmap(df_RF3_test, annot=True)\n",
    "plt.show()\n"
   ]
  },
  {
   "cell_type": "markdown",
   "metadata": {},
   "source": [
    "It seems like the recall score still 0.85 (our best recall score), so we use another metrics called ROC AUC. AUC - ROC curve is a performance measurement for the classification problems at various threshold settings. ROC is a probability curve and AUC represents the degree or measure of separability. It tells how much the model is capable of distinguishing between classes. Higher the AUC, the better the model is at predicting 0s as 0s and 1s as 1s. By analogy, the Higher the AUC, the better the model is at distinguishing between patients with the disease and no disease."
   ]
  },
  {
   "cell_type": "code",
   "execution_count": 311,
   "metadata": {},
   "outputs": [],
   "source": [
    "from sklearn.metrics import roc_auc_score, roc_curve, auc"
   ]
  },
  {
   "cell_type": "code",
   "execution_count": 282,
   "metadata": {},
   "outputs": [],
   "source": [
    "y_proba = pipeline_LR.predict_proba(X_test)"
   ]
  },
  {
   "cell_type": "code",
   "execution_count": 284,
   "metadata": {},
   "outputs": [],
   "source": [
    "pred_1 = y_proba[:, 1]"
   ]
  },
  {
   "cell_type": "code",
   "execution_count": 285,
   "metadata": {},
   "outputs": [
    {
     "data": {
      "text/plain": [
       "(array([0.        , 0.        , 0.        , 0.        , 0.        ,\n",
       "        0.        , 0.        , 0.        , 0.        , 0.        ,\n",
       "        0.        , 0.        , 0.07692308, 0.07692308, 0.07692308,\n",
       "        0.07692308, 0.07692308, 0.07692308, 0.07692308, 0.07692308,\n",
       "        0.07692308, 0.07692308, 0.07692308, 0.07692308, 0.07692308,\n",
       "        0.07692308, 0.07692308, 0.07692308, 0.15384615, 0.15384615,\n",
       "        0.15384615, 0.15384615, 0.15384615, 0.15384615, 0.15384615,\n",
       "        0.15384615, 0.15384615, 0.15384615, 0.15384615, 0.15384615,\n",
       "        0.15384615, 0.15384615, 0.15384615, 0.15384615, 0.15384615,\n",
       "        0.15384615, 0.15384615, 0.15384615, 0.15384615, 0.15384615,\n",
       "        0.15384615, 0.15384615, 0.15384615, 0.15384615, 0.15384615,\n",
       "        0.15384615, 0.15384615, 1.        ]),\n",
       " array([0.        , 0.00478469, 0.03349282, 0.03827751, 0.04784689,\n",
       "        0.09090909, 0.10047847, 0.1291866 , 0.13875598, 0.15311005,\n",
       "        0.16746411, 0.20095694, 0.20095694, 0.24880383, 0.25837321,\n",
       "        0.26315789, 0.27272727, 0.3062201 , 0.32535885, 0.33492823,\n",
       "        0.34449761, 0.35406699, 0.36363636, 0.38277512, 0.3923445 ,\n",
       "        0.40669856, 0.41626794, 0.44976077, 0.45454545, 0.4784689 ,\n",
       "        0.49760766, 0.50239234, 0.51674641, 0.52631579, 0.55502392,\n",
       "        0.57894737, 0.58851675, 0.59330144, 0.60287081, 0.62200957,\n",
       "        0.63636364, 0.64114833, 0.67464115, 0.68899522, 0.72248804,\n",
       "        0.73205742, 0.74162679, 0.75119617, 0.79904306, 0.80861244,\n",
       "        0.83732057, 0.85645933, 0.88516746, 0.89473684, 0.93301435,\n",
       "        0.94258373, 1.        , 1.        ]),\n",
       " array([1.99996025e+00, 9.99960249e-01, 9.99957858e-01, 9.99951185e-01,\n",
       "        9.99948294e-01, 9.99805063e-01, 9.99796729e-01, 9.99699222e-01,\n",
       "        9.99680745e-01, 9.99630960e-01, 9.99630755e-01, 9.99503272e-01,\n",
       "        9.99483815e-01, 9.99053187e-01, 9.99043435e-01, 9.99036003e-01,\n",
       "        9.99024265e-01, 9.98939518e-01, 9.98929473e-01, 9.98910633e-01,\n",
       "        9.98906067e-01, 9.98865874e-01, 9.98859173e-01, 9.98733045e-01,\n",
       "        9.98718096e-01, 9.98677584e-01, 9.98658109e-01, 9.98525148e-01,\n",
       "        9.98500784e-01, 9.98342237e-01, 9.98333678e-01, 9.98324597e-01,\n",
       "        9.98321302e-01, 9.98222644e-01, 9.98156961e-01, 9.98107263e-01,\n",
       "        9.98102076e-01, 9.98073980e-01, 9.98052647e-01, 9.97885939e-01,\n",
       "        9.97816624e-01, 9.97725181e-01, 9.97672305e-01, 9.97672018e-01,\n",
       "        9.97338428e-01, 9.97318859e-01, 9.97129314e-01, 9.97034436e-01,\n",
       "        9.94923761e-01, 9.94774068e-01, 9.93090976e-01, 9.92744377e-01,\n",
       "        9.92099173e-01, 9.91997033e-01, 9.89653363e-01, 9.89322507e-01,\n",
       "        9.59859872e-01, 5.56623853e-04]))"
      ]
     },
     "execution_count": 285,
     "metadata": {},
     "output_type": "execute_result"
    }
   ],
   "source": [
    "roc_curve(y_test, pred_1)"
   ]
  },
  {
   "cell_type": "code",
   "execution_count": 286,
   "metadata": {},
   "outputs": [],
   "source": [
    "fpr, tpr, threshold = roc_curve(y_test, pred_1)"
   ]
  },
  {
   "cell_type": "code",
   "execution_count": 287,
   "metadata": {},
   "outputs": [],
   "source": [
    "# AUC Score = Area Under Curve\n",
    "auc_score = round((auc(fpr, tpr)), 2)"
   ]
  },
  {
   "cell_type": "code",
   "execution_count": 288,
   "metadata": {},
   "outputs": [
    {
     "data": {
      "image/png": "[encoded data removed]",
      "text/plain": [
       "<Figure size 720x432 with 1 Axes>"
      ]
     },
     "metadata": {
      "needs_background": "light"
     },
     "output_type": "display_data"
    }
   ],
   "source": [
    "plt.figure(figsize=(10, 6))\n",
    "plt.plot(fpr, tpr, 'b', label = f\"AUC = {auc_score}\")\n",
    "plt.plot([0, 1], [0, 1], 'r-.')\n",
    "plt.xlim([0, 1])\n",
    "plt.ylim([0, 1])\n",
    "plt.xlabel('False Positive Rate (FPR)')\n",
    "plt.ylabel('True Positive Rate (TPR)')\n",
    "plt.title('Receiver Operating Characteristic Curve of Logistic regression after feature engineering')\n",
    "plt.legend()\n",
    "plt.show()"
   ]
  },
  {
   "cell_type": "code",
   "execution_count": 289,
   "metadata": {},
   "outputs": [],
   "source": [
    "y_proba = KNN_Tuned.predict_proba(X_test)"
   ]
  },
  {
   "cell_type": "code",
   "execution_count": 291,
   "metadata": {},
   "outputs": [],
   "source": [
    "pred_1 = y_proba[:, 1]"
   ]
  },
  {
   "cell_type": "code",
   "execution_count": 292,
   "metadata": {},
   "outputs": [
    {
     "data": {
      "text/plain": [
       "(array([0.        , 0.15384615, 1.        ]),\n",
       " array([0., 1., 1.]),\n",
       " array([2., 1., 0.]))"
      ]
     },
     "execution_count": 292,
     "metadata": {},
     "output_type": "execute_result"
    }
   ],
   "source": [
    "roc_curve(y_test, pred_1)"
   ]
  },
  {
   "cell_type": "code",
   "execution_count": 293,
   "metadata": {},
   "outputs": [],
   "source": [
    "fpr, tpr, threshold = roc_curve(y_test, pred_1)"
   ]
  },
  {
   "cell_type": "code",
   "execution_count": 294,
   "metadata": {},
   "outputs": [],
   "source": [
    "# AUC Score = Area Under Curve\n",
    "auc_score = round((auc(fpr, tpr)), 2)"
   ]
  },
  {
   "cell_type": "code",
   "execution_count": 295,
   "metadata": {},
   "outputs": [
    {
     "data": {
      "image/png": "[encoded data removed]",
      "text/plain": [
       "<Figure size 720x432 with 1 Axes>"
      ]
     },
     "metadata": {
      "needs_background": "light"
     },
     "output_type": "display_data"
    }
   ],
   "source": [
    "plt.figure(figsize=(10, 6))\n",
    "plt.plot(fpr, tpr, 'b', label = f\"AUC = {auc_score}\")\n",
    "plt.plot([0, 1], [0, 1], 'r-.')\n",
    "plt.xlim([0, 1])\n",
    "plt.ylim([0, 1])\n",
    "plt.xlabel('False Positive Rate (FPR)')\n",
    "plt.ylabel('True Positive Rate (TPR)')\n",
    "plt.title('Receiver Operating Characteristic Curve of KNN hyperparameter tuning')\n",
    "plt.legend()\n",
    "plt.show()"
   ]
  },
  {
   "cell_type": "code",
   "execution_count": 296,
   "metadata": {},
   "outputs": [],
   "source": [
    "y_proba = DT.predict_proba(X_test)"
   ]
  },
  {
   "cell_type": "code",
   "execution_count": 298,
   "metadata": {},
   "outputs": [],
   "source": [
    "pred_1 = y_proba[:, 1]"
   ]
  },
  {
   "cell_type": "code",
   "execution_count": 299,
   "metadata": {},
   "outputs": [
    {
     "data": {
      "text/plain": [
       "(array([0.        , 0.15384615, 1.        ]),\n",
       " array([0., 1., 1.]),\n",
       " array([2., 1., 0.]))"
      ]
     },
     "execution_count": 299,
     "metadata": {},
     "output_type": "execute_result"
    }
   ],
   "source": [
    "roc_curve(y_test, pred_1)"
   ]
  },
  {
   "cell_type": "code",
   "execution_count": 300,
   "metadata": {},
   "outputs": [],
   "source": [
    "fpr, tpr, threshold = roc_curve(y_test, pred_1)"
   ]
  },
  {
   "cell_type": "code",
   "execution_count": 301,
   "metadata": {},
   "outputs": [],
   "source": [
    "# AUC Score = Area Under Curve\n",
    "auc_score = round((auc(fpr, tpr)), 2)"
   ]
  },
  {
   "cell_type": "code",
   "execution_count": 302,
   "metadata": {},
   "outputs": [
    {
     "data": {
      "image/png": "[encoded data removed]",
      "text/plain": [
       "<Figure size 720x432 with 1 Axes>"
      ]
     },
     "metadata": {
      "needs_background": "light"
     },
     "output_type": "display_data"
    }
   ],
   "source": [
    "plt.figure(figsize=(10, 6))\n",
    "plt.plot(fpr, tpr, 'b', label = f\"AUC = {auc_score}\")\n",
    "plt.plot([0, 1], [0, 1], 'r-.')\n",
    "plt.xlim([0, 1])\n",
    "plt.ylim([0, 1])\n",
    "plt.xlabel('False Positive Rate (FPR)')\n",
    "plt.ylabel('True Positive Rate (TPR)')\n",
    "plt.title('Receiver Operating Characteristic Curve of DecisionTree ')\n",
    "plt.legend()\n",
    "plt.show()"
   ]
  },
  {
   "cell_type": "code",
   "execution_count": 324,
   "metadata": {},
   "outputs": [],
   "source": [
    "y_proba = RF_Tuned.predict_proba(X_test)"
   ]
  },
  {
   "cell_type": "code",
   "execution_count": 325,
   "metadata": {},
   "outputs": [],
   "source": [
    "pred_1 = y_proba[:, 1]"
   ]
  },
  {
   "cell_type": "code",
   "execution_count": 326,
   "metadata": {},
   "outputs": [
    {
     "data": {
      "text/plain": [
       "(array([0.        , 0.07692308, 0.07692308, 0.07692308, 0.07692308,\n",
       "        0.07692308, 0.07692308, 0.15384615, 0.15384615, 0.15384615,\n",
       "        0.46153846, 0.61538462, 1.        ]),\n",
       " array([0.        , 0.73684211, 0.82296651, 0.89473684, 0.93301435,\n",
       "        0.9569378 , 0.96172249, 0.97129187, 0.98564593, 1.        ,\n",
       "        1.        , 1.        , 1.        ]),\n",
       " array([2.  , 1.  , 0.99, 0.98, 0.97, 0.96, 0.95, 0.94, 0.93, 0.88, 0.24,\n",
       "        0.16, 0.07]))"
      ]
     },
     "execution_count": 326,
     "metadata": {},
     "output_type": "execute_result"
    }
   ],
   "source": [
    "roc_curve(y_test, pred_1)"
   ]
  },
  {
   "cell_type": "code",
   "execution_count": 307,
   "metadata": {},
   "outputs": [],
   "source": [
    "fpr, tpr, threshold = roc_curve(y_test, pred_1)"
   ]
  },
  {
   "cell_type": "code",
   "execution_count": 327,
   "metadata": {},
   "outputs": [],
   "source": [
    "# AUC Score = Area Under Curve\n",
    "auc_score = round((auc(fpr, tpr)), 2)"
   ]
  },
  {
   "cell_type": "code",
   "execution_count": 329,
   "metadata": {},
   "outputs": [
    {
     "data": {
      "image/png": "[encoded data removed]",
      "text/plain": [
       "<Figure size 720x432 with 1 Axes>"
      ]
     },
     "metadata": {
      "needs_background": "light"
     },
     "output_type": "display_data"
    }
   ],
   "source": [
    "plt.figure(figsize=(10, 6))\n",
    "plt.plot(fpr, tpr, 'b', label = f\"AUC = {auc_score}\")\n",
    "plt.plot([0, 1], [0, 1], 'r-.')\n",
    "plt.xlim([0, 1])\n",
    "plt.ylim([0, 1])\n",
    "plt.xlabel('False Positive Rate (FPR)')\n",
    "plt.ylabel('True Positive Rate (TPR)')\n",
    "plt.title('Receiver Operating Characteristic Curve of random forest after Hyperparameter tuning')\n",
    "plt.legend()\n",
    "plt.show()"
   ]
  },
  {
   "cell_type": "markdown",
   "metadata": {},
   "source": [
    "# Conclusion\n",
    "- the best algoritm for this classification problem is using randomforest algoritm with area under the curve (AUC = 0.95) and recall score 0.85\n",
    "- the recall score random forest before tuned and after tuned is the same also the AUC score\n",
    "- tuning does not improve the model recall score"
   ]
  },
  {
   "cell_type": "markdown",
   "metadata": {},
   "source": [
    "# Save model"
   ]
  },
  {
   "cell_type": "code",
   "execution_count": 344,
   "metadata": {},
   "outputs": [],
   "source": [
    "import joblib"
   ]
  },
  {
   "cell_type": "code",
   "execution_count": 345,
   "metadata": {},
   "outputs": [
    {
     "data": {
      "text/plain": [
       "['Model RF Absen.jbl']"
      ]
     },
     "execution_count": 345,
     "metadata": {},
     "output_type": "execute_result"
    }
   ],
   "source": [
    "joblib.dump(RF_Tuned, 'Model RF Absen.jbl')"
   ]
  }
 ],
 "metadata": {
  "kernelspec": {
   "display_name": "Python 3",
   "language": "python",
   "name": "python3"
  },
  "language_info": {
   "codemirror_mode": {
    "name": "ipython",
    "version": 3
   },
   "file_extension": ".py",
   "mimetype": "text/x-python",
   "name": "python",
   "nbconvert_exporter": "python",
   "pygments_lexer": "ipython3",
   "version": "3.8.5"
  }
 },
 "nbformat": 4,
 "nbformat_minor": 4
}
